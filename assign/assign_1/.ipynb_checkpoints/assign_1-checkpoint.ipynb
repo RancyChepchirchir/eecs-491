{
 "cells": [
  {
   "cell_type": "markdown",
   "metadata": {},
   "source": [
    "# Purpose: Design and Solve a Bayesian Problem\n",
    "\n",
    "## Requirements\n",
    "\n",
    "    *At least one continuous random variable\n",
    "    *Clear Description of Problem\n",
    "    *Mathematical Model\n",
    "    *Code to solve problem\n",
    "    *Present Results\n",
    "    *Conclusions from problem"
   ]
  },
  {
   "cell_type": "markdown",
   "metadata": {},
   "source": [
    "## Problem Description"
   ]
  },
  {
   "cell_type": "markdown",
   "metadata": {},
   "source": [
    "## Bayesian Sensor for Determining When Someone is in Bed"
   ]
  },
  {
   "cell_type": "markdown",
   "metadata": {},
   "source": [
    "Prior: Gaussian\n",
    "\n",
    "Evidence: \n",
    "        \n",
    "        * Phone plugged in (true/false)\n",
    "        * Time since last motion in house (continuous)\n",
    "        * Bedroom light on (true/false)\n",
    "        \n",
    "        "
   ]
  },
  {
   "cell_type": "code",
   "execution_count": 2,
   "metadata": {},
   "outputs": [],
   "source": [
    "import pandas as pd\n",
    "import numpy as np\n",
    "\n",
    "from scipy import stats"
   ]
  },
  {
   "cell_type": "code",
   "execution_count": 3,
   "metadata": {},
   "outputs": [],
   "source": [
    "import matplotlib.pyplot as plt\n",
    "%matplotlib inline\n",
    "\n",
    "import matplotlib\n",
    "\n",
    "matplotlib.rcParams['figure.figsize'] = (9, 7)\n",
    "matplotlib.rcParams['font.size'] = 12"
   ]
  },
  {
   "cell_type": "code",
   "execution_count": 4,
   "metadata": {},
   "outputs": [],
   "source": [
    "def prior(time, mu = 240, sigma=360):\n",
    "    z_score = (time - mu) / sigma\n",
    "    probability = stats.norm.cdf(z_score) if (z_score) < 0 else (1 - stats.norm.cdf(z_score))\n",
    "    x_values = np.linspace(-3 * sigma + mu, 3 * sigma + mu, 1e4)\n",
    "    y_values = stats.norm.pdf(x_values, loc=mu, scale=sigma)\n",
    "    plt.plot(x_values, y_values); plt.title('Mean = %d, Standard Deviation = %d' % (mu, sigma))\n",
    "    plt.vlines(time, ymin=min(y_values), ymax=max(y_values))\n",
    "    plt.show();\n",
    "    return probability"
   ]
  },
  {
   "cell_type": "code",
   "execution_count": 5,
   "metadata": {},
   "outputs": [],
   "source": [
    "def chain_rule():\n",
    "    pass"
   ]
  },
  {
   "cell_type": "code",
   "execution_count": 6,
   "metadata": {},
   "outputs": [],
   "source": [
    "def update_probability(phone, time, light):\n",
    "    numerator = 0\n",
    "    denominator = 0 \n",
    "    pass"
   ]
  },
  {
   "cell_type": "code",
   "execution_count": 8,
   "metadata": {},
   "outputs": [
    {
     "data": {
      "text/plain": [
       "[<matplotlib.lines.Line2D at 0x18d314409b0>]"
      ]
     },
     "execution_count": 8,
     "metadata": {},
     "output_type": "execute_result"
    },
    {
     "data": {
      "image/png": "[encoded data removed]",
      "text/plain": [
       "<matplotlib.figure.Figure at 0x18d300e8940>"
      ]
     },
     "metadata": {},
     "output_type": "display_data"
    }
   ],
   "source": [
    "def logistic(x, beta):\n",
    "    return 1.0 / (1.0 + np.exp(beta * -x))\n",
    "\n",
    "x = np.linspace(-4, 4, 1000)\n",
    "plt.plot(x, logistic(x, 3))"
   ]
  },
  {
   "cell_type": "code",
   "execution_count": 11,
   "metadata": {},
   "outputs": [
    {
     "data": {
      "image/png": "[encoded data removed]",
      "text/plain": [
       "<matplotlib.figure.Figure at 0x18d314d1080>"
      ]
     },
     "metadata": {},
     "output_type": "display_data"
    }
   ],
   "source": [
    "nor = stats.norm\n",
    "x = np.linspace(-8, 8, 100)\n",
    "mu = (-2, 0, 3)\n",
    "tau = (0.7, 1, 2)\n",
    "colors = ['blue', 'red', 'green']\n",
    "parameters = zip(mu, tau, colors)\n",
    "\n",
    "for _mu, _tau, _color in parameters:\n",
    "    plt.plot(x, nor.pdf(x, _mu, scale=1./_tau), color = _color)\n",
    "    plt.fill_between(x, nor.pdf(x, _mu, scale=1/_tau), color = _color, alpha = 0.4)\n",
    "    \n"
   ]
  },
  {
   "cell_type": "markdown",
   "metadata": {},
   "source": [
    "# Wake Sleep Data\n",
    "\n",
    "Find distribution of wake and sleep times from data."
   ]
  },
  {
   "cell_type": "code",
   "execution_count": 66,
   "metadata": {},
   "outputs": [],
   "source": [
    "data = pd.read_csv('data/sleep_wake.csv')\n",
    "data.set_index('Date', inplace=True, drop=True)\n",
    "data.index=data.index.to_datetime(dayfirst=False)\n",
    "data = data.ix[:, 0:2]"
   ]
  },
  {
   "cell_type": "code",
   "execution_count": 67,
   "metadata": {},
   "outputs": [],
   "source": [
    "data['Sleep_time'] = [entry[0] + pd.DateOffset(minutes=entry[1], hours=20) for entry in zip(data.index, data['Sleep'])]"
   ]
  },
  {
   "cell_type": "code",
   "execution_count": 68,
   "metadata": {},
   "outputs": [],
   "source": [
    "data['Wake_time'] = [entry[0] + pd.DateOffset(minutes=entry[1], hours=6) for entry in zip(data.index, data['Wake'])]"
   ]
  },
  {
   "cell_type": "code",
   "execution_count": 84,
   "metadata": {},
   "outputs": [
    {
     "data": {
      "text/html": [
       "<div>\n",
       "<style scoped>\n",
       "    .dataframe tbody tr th:only-of-type {\n",
       "        vertical-align: middle;\n",
       "    }\n",
       "\n",
       "    .dataframe tbody tr th {\n",
       "        vertical-align: top;\n",
       "    }\n",
       "\n",
       "    .dataframe thead th {\n",
       "        text-align: right;\n",
       "    }\n",
       "</style>\n",
       "<table border=\"1\" class=\"dataframe\">\n",
       "  <thead>\n",
       "    <tr style=\"text-align: right;\">\n",
       "      <th></th>\n",
       "      <th>Sleep</th>\n",
       "      <th>Wake</th>\n",
       "      <th>Sleep_time</th>\n",
       "      <th>Wake_time</th>\n",
       "    </tr>\n",
       "  </thead>\n",
       "  <tbody>\n",
       "    <tr>\n",
       "      <th>2017-12-05</th>\n",
       "      <td>15</td>\n",
       "      <td>0</td>\n",
       "      <td>2017-12-05 20:15:00</td>\n",
       "      <td>2017-12-05 06:00:00</td>\n",
       "    </tr>\n",
       "    <tr>\n",
       "      <th>2017-12-06</th>\n",
       "      <td>11</td>\n",
       "      <td>0</td>\n",
       "      <td>2017-12-06 20:11:00</td>\n",
       "      <td>2017-12-06 06:00:00</td>\n",
       "    </tr>\n",
       "    <tr>\n",
       "      <th>2017-12-07</th>\n",
       "      <td>10</td>\n",
       "      <td>0</td>\n",
       "      <td>2017-12-07 20:10:00</td>\n",
       "      <td>2017-12-07 06:00:00</td>\n",
       "    </tr>\n",
       "    <tr>\n",
       "      <th>2017-12-08</th>\n",
       "      <td>21</td>\n",
       "      <td>12</td>\n",
       "      <td>2017-12-08 20:21:00</td>\n",
       "      <td>2017-12-08 06:12:00</td>\n",
       "    </tr>\n",
       "    <tr>\n",
       "      <th>2017-12-09</th>\n",
       "      <td>2</td>\n",
       "      <td>0</td>\n",
       "      <td>2017-12-09 20:02:00</td>\n",
       "      <td>2017-12-09 06:00:00</td>\n",
       "    </tr>\n",
       "  </tbody>\n",
       "</table>\n",
       "</div>"
      ],
      "text/plain": [
       "            Sleep  Wake          Sleep_time           Wake_time\n",
       "2017-12-05     15     0 2017-12-05 20:15:00 2017-12-05 06:00:00\n",
       "2017-12-06     11     0 2017-12-06 20:11:00 2017-12-06 06:00:00\n",
       "2017-12-07     10     0 2017-12-07 20:10:00 2017-12-07 06:00:00\n",
       "2017-12-08     21    12 2017-12-08 20:21:00 2017-12-08 06:12:00\n",
       "2017-12-09      2     0 2017-12-09 20:02:00 2017-12-09 06:00:00"
      ]
     },
     "execution_count": 84,
     "metadata": {},
     "output_type": "execute_result"
    }
   ],
   "source": [
    "data.head()"
   ]
  },
  {
   "cell_type": "code",
   "execution_count": 82,
   "metadata": {},
   "outputs": [],
   "source": [
    "index=pd.date_range(start=min(data.index), end=max(data.index), freq='60S')\n",
    "index = [time for time in index if time.hour >= 10]\n",
    "sleep_data = pd.DataFrame(0, columns=['indicator'], index=index)"
   ]
  },
  {
   "cell_type": "code",
   "execution_count": 83,
   "metadata": {},
   "outputs": [
    {
     "data": {
      "text/html": [
       "<div>\n",
       "<style scoped>\n",
       "    .dataframe tbody tr th:only-of-type {\n",
       "        vertical-align: middle;\n",
       "    }\n",
       "\n",
       "    .dataframe tbody tr th {\n",
       "        vertical-align: top;\n",
       "    }\n",
       "\n",
       "    .dataframe thead th {\n",
       "        text-align: right;\n",
       "    }\n",
       "</style>\n",
       "<table border=\"1\" class=\"dataframe\">\n",
       "  <thead>\n",
       "    <tr style=\"text-align: right;\">\n",
       "      <th></th>\n",
       "      <th>indicator</th>\n",
       "    </tr>\n",
       "  </thead>\n",
       "  <tbody>\n",
       "    <tr>\n",
       "      <th>2017-12-05 10:00:00</th>\n",
       "      <td>0</td>\n",
       "    </tr>\n",
       "    <tr>\n",
       "      <th>2017-12-05 10:01:00</th>\n",
       "      <td>0</td>\n",
       "    </tr>\n",
       "    <tr>\n",
       "      <th>2017-12-05 10:02:00</th>\n",
       "      <td>0</td>\n",
       "    </tr>\n",
       "    <tr>\n",
       "      <th>2017-12-05 10:03:00</th>\n",
       "      <td>0</td>\n",
       "    </tr>\n",
       "    <tr>\n",
       "      <th>2017-12-05 10:04:00</th>\n",
       "      <td>0</td>\n",
       "    </tr>\n",
       "  </tbody>\n",
       "</table>\n",
       "</div>"
      ],
      "text/plain": [
       "                     indicator\n",
       "2017-12-05 10:00:00          0\n",
       "2017-12-05 10:01:00          0\n",
       "2017-12-05 10:02:00          0\n",
       "2017-12-05 10:03:00          0\n",
       "2017-12-05 10:04:00          0"
      ]
     },
     "execution_count": 83,
     "metadata": {},
     "output_type": "execute_result"
    }
   ],
   "source": [
    "sleep_data.head()"
   ]
  },
  {
   "cell_type": "code",
   "execution_count": 43,
   "metadata": {},
   "outputs": [],
   "source": [
    "for time in sleep_data.index:\n",
    "    if time in data['Sleep_time']:\n",
    "        sleep_data.ix[time, 'indicator'] = 1"
   ]
  },
  {
   "cell_type": "code",
   "execution_count": 46,
   "metadata": {},
   "outputs": [],
   "source": [
    "date = pd.datetime(2017, 12, 5)"
   ]
  },
  {
   "cell_type": "code",
   "execution_count": 48,
   "metadata": {},
   "outputs": [
    {
     "ename": "TypeError",
     "evalue": "unsupported operand type(s) for +: 'datetime.datetime' and 'str'",
     "output_type": "error",
     "traceback": [
      "\u001b[1;31m---------------------------------------------------------------------------\u001b[0m",
      "\u001b[1;31mTypeError\u001b[0m                                 Traceback (most recent call last)",
      "\u001b[1;32m<ipython-input-48-d6c26cb822f4>\u001b[0m in \u001b[0;36m<module>\u001b[1;34m()\u001b[0m\n\u001b[1;32m----> 1\u001b[1;33m \u001b[0mdate\u001b[0m \u001b[1;33m+\u001b[0m \u001b[1;34m'10h'\u001b[0m\u001b[1;33m\u001b[0m\u001b[0m\n\u001b[0m",
      "\u001b[1;31mTypeError\u001b[0m: unsupported operand type(s) for +: 'datetime.datetime' and 'str'"
     ]
    }
   ],
   "source": [
    "date + '10h'"
   ]
  },
  {
   "cell_type": "code",
   "execution_count": 39,
   "metadata": {},
   "outputs": [
    {
     "data": {
      "text/plain": [
       "Timestamp('2017-12-05 00:01:00', freq='60S')"
      ]
     },
     "execution_count": 39,
     "metadata": {},
     "output_type": "execute_result"
    }
   ],
   "source": [
    "time.hour"
   ]
  },
  {
   "cell_type": "code",
   "execution_count": 35,
   "metadata": {},
   "outputs": [
    {
     "data": {
      "text/plain": [
       "DatetimeIndex(['2017-12-05 00:00:00', '2017-12-05 00:01:00',\n",
       "               '2017-12-05 00:02:00', '2017-12-05 00:03:00',\n",
       "               '2017-12-05 00:04:00', '2017-12-05 00:05:00',\n",
       "               '2017-12-05 00:06:00', '2017-12-05 00:07:00',\n",
       "               '2017-12-05 00:08:00', '2017-12-05 00:09:00',\n",
       "               ...\n",
       "               '2018-02-01 23:51:00', '2018-02-01 23:52:00',\n",
       "               '2018-02-01 23:53:00', '2018-02-01 23:54:00',\n",
       "               '2018-02-01 23:55:00', '2018-02-01 23:56:00',\n",
       "               '2018-02-01 23:57:00', '2018-02-01 23:58:00',\n",
       "               '2018-02-01 23:59:00', '2018-02-02 00:00:00'],\n",
       "              dtype='datetime64[ns]', length=84961, freq='60S')"
      ]
     },
     "execution_count": 35,
     "metadata": {},
     "output_type": "execute_result"
    }
   ],
   "source": [
    "pd.date_range(start=min(data.index), end=max(data.index), freq='60S')"
   ]
  },
  {
   "cell_type": "code",
   "execution_count": 36,
   "metadata": {},
   "outputs": [
    {
     "ename": "AttributeError",
     "evalue": "'Timestamp' object has no attribute 'hours'",
     "output_type": "error",
     "traceback": [
      "\u001b[1;31m---------------------------------------------------------------------------\u001b[0m",
      "\u001b[1;31mAttributeError\u001b[0m                            Traceback (most recent call last)",
      "\u001b[1;32m<ipython-input-36-410f57904792>\u001b[0m in \u001b[0;36m<module>\u001b[1;34m()\u001b[0m\n\u001b[1;32m----> 1\u001b[1;33m \u001b[0mmin\u001b[0m\u001b[1;33m(\u001b[0m\u001b[0mdata\u001b[0m\u001b[1;33m.\u001b[0m\u001b[0mindex\u001b[0m\u001b[1;33m)\u001b[0m\u001b[1;33m.\u001b[0m\u001b[0mhours\u001b[0m\u001b[1;33m(\u001b[0m\u001b[1;33m)\u001b[0m\u001b[1;33m\u001b[0m\u001b[0m\n\u001b[0m",
      "\u001b[1;31mAttributeError\u001b[0m: 'Timestamp' object has no attribute 'hours'"
     ]
    }
   ],
   "source": [
    "date = "
   ]
  },
  {
   "cell_type": "code",
   "execution_count": null,
   "metadata": {},
   "outputs": [],
   "source": []
  }
 ],
 "metadata": {
  "kernelspec": {
   "display_name": "Python 3",
   "language": "python",
   "name": "python3"
  },
  "language_info": {
   "codemirror_mode": {
    "name": "ipython",
    "version": 3
   },
   "file_extension": ".py",
   "mimetype": "text/x-python",
   "name": "python",
   "nbconvert_exporter": "python",
   "pygments_lexer": "ipython3",
   "version": "3.6.4"
  }
 },
 "nbformat": 4,
 "nbformat_minor": 2
}
