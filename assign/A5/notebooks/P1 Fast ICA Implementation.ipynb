{
 "cells": [
  {
   "cell_type": "code",
   "execution_count": 1,
   "metadata": {},
   "outputs": [],
   "source": [
    "import pandas as pd\n",
    "import numpy as np"
   ]
  },
  {
   "cell_type": "code",
   "execution_count": 2,
   "metadata": {},
   "outputs": [],
   "source": [
    "import matplotlib.pyplot as plt\n",
    "%matplotlib inline\n",
    "\n",
    "import seaborn as sns\n",
    "\n",
    "from scipy import signal, linalg\n",
    "\n",
    "import warnings\n",
    "\n",
    "from sklearn.datasets import load_digits"
   ]
  },
  {
   "cell_type": "markdown",
   "metadata": {},
   "source": [
    "# Implementation of FastICA\n",
    "\n",
    "http://www.ccs.neu.edu/home/jaa/CS6800.11F/Topics/Papers/Hyvarinen97.pdf\n",
    "\n",
    "https://www.cs.helsinki.fi/u/ahyvarin/papers/NN00new.pdf\n",
    "\n",
    "https://www.cs.helsinki.fi/u/ahyvarin/papers/bookfinal_ICA.pdf"
   ]
  },
  {
   "cell_type": "markdown",
   "metadata": {},
   "source": [
    "## Test Dataset"
   ]
  },
  {
   "cell_type": "code",
   "execution_count": 3,
   "metadata": {},
   "outputs": [],
   "source": [
    "digits = load_digits()\n",
    "features = digits.images.reshape(-1, 64)\n",
    "labels = digits.target"
   ]
  },
  {
   "cell_type": "markdown",
   "metadata": {},
   "source": [
    "## Loss Function (negative entropy)\n",
    "\n",
    "Using log cos approximation"
   ]
  },
  {
   "cell_type": "code",
   "execution_count": 51,
   "metadata": {},
   "outputs": [],
   "source": [
    "def tanh(x, alpha = 1.0):\n",
    "\n",
    "    x *= alpha\n",
    "    \n",
    "    gx = np.tanh(x, x)\n",
    "    g_x = np.empty(x.shape[0])\n",
    "    \n",
    "    for i, gx_i in enumerate(gx):\n",
    "        g_x[i] = (alpha * (1 - gx_i ** 2)).mean()\n",
    "        \n",
    "    return gx, g_x\n"
   ]
  },
  {
   "cell_type": "markdown",
   "metadata": {},
   "source": [
    "## Whitening Components (using SVD)"
   ]
  },
  {
   "cell_type": "code",
   "execution_count": 42,
   "metadata": {},
   "outputs": [],
   "source": [
    "# Whiten and pre-process components\n",
    "def whiten_components(X, n_components):\n",
    "    \n",
    "    n, p = X.shape\n",
    "\n",
    "    X_mean = X.mean(axis=-1)\n",
    "    \n",
    "    # Subtract the mean for 0 mean\n",
    "    X -= X_mean[:, np.newaxis]\n",
    "    \n",
    "    # Preprocessing by PCA\n",
    "    u, d, _ = linalg.svd(X, full_matrices=False)\n",
    "    \n",
    "    # Whitening matrix\n",
    "    whitening = (u / d).T[:n_components]\n",
    "    \n",
    "    # Project data onto the principal components using the whitening matrix\n",
    "    X1 = np.dot(whitening, X)\n",
    "    X1 *= np.sqrt(p)\n",
    "    \n",
    "    # Return whitened components, whitening matrix, and mean of components\n",
    "    return X1, whitening, X_mean"
   ]
  },
  {
   "cell_type": "markdown",
   "metadata": {},
   "source": [
    "## Symmetric Decorrelation"
   ]
  },
  {
   "cell_type": "code",
   "execution_count": 43,
   "metadata": {},
   "outputs": [],
   "source": [
    "# Symmetric decorrelation of un_mixing matrix\n",
    "# https://ieeexplore.ieee.org/document/398721/\n",
    "# Ensures no vectors are privileged over others\n",
    "def symmetric_decorrelation(un_mixing):\n",
    "    \n",
    "    # Find eigenvalues and eigenvectors of initial weight matrix\n",
    "    eig_values, eig_vectors = linalg.eigh(np.dot(un_mixing, un_mixing.T))\n",
    "    # Symmetric decorrelation equation\n",
    "    sym_un_mixing = np.dot(np.dot(eig_vectors * (1 / np.sqrt(eig_values)), eig_vectors.T), un_mixing)\n",
    "    \n",
    "    return sym_un_mixing\n"
   ]
  },
  {
   "cell_type": "markdown",
   "metadata": {},
   "source": [
    "# Parallel ICA Implementation"
   ]
  },
  {
   "cell_type": "code",
   "execution_count": 44,
   "metadata": {},
   "outputs": [],
   "source": [
    "def parallel_ica(X, init_un_mixing, alpha = 1.0, max_iter = 1000, tol = 1e-4, return_iter = False):\n",
    "    \n",
    "    # Symmetric decorrelation of initial un-mixing components \n",
    "    un_mixing = symmetric_decorrelation(init_un_mixing)\n",
    "    \n",
    "    \n",
    "    p = float(X.shape[1])\n",
    "    \n",
    "    # Iteratively update the un-mixing matrix\n",
    "    for i in range(max_iter):\n",
    "        \n",
    "        # Function and derivative \n",
    "        gwtx, g_wtx = tanh(np.dot(un_mixing, X), alpha)\n",
    "        \n",
    "        \n",
    "        new_un_mixing = symmetric_decorrelation(np.dot(gwtx, X.T) / p - g_wtx[:, np.newaxis] * un_mixing)\n",
    "        \n",
    "        # Calculate negative entropy based on logcosh\n",
    "        lim = max(abs(abs(np.diag(np.dot(new_un_mixing, un_mixing.T))) - 1))\n",
    "        \n",
    "        # Update un-mixing \n",
    "        un_mixing = new_un_mixing\n",
    "\n",
    "        # Check for convergence\n",
    "        if lim < tol:\n",
    "            break\n",
    "            \n",
    "    else:\n",
    "        warnings.warn('FastICA algorithm did not converge. Considering increasing '\n",
    "                      'tolerance or increasing the maximum number of iterations.')\n",
    "        \n",
    "    if return_iter:\n",
    "        return un_mixing, i + 1\n",
    "    else: \n",
    "        return un_mixing"
   ]
  },
  {
   "cell_type": "markdown",
   "metadata": {},
   "source": [
    "# Complete Algorithm"
   ]
  },
  {
   "cell_type": "code",
   "execution_count": 54,
   "metadata": {},
   "outputs": [],
   "source": [
    "# X = mixing * sources\n",
    "# sources = un-mixing * whitening * X\n",
    "def perform_fastica(X, n_components, alpha = 1.0, max_iter = 200, tol = 1e-4):\n",
    "    \n",
    "    X1 = X.T\n",
    "    # Whiten components by subtracting mean\n",
    "    X1, whitening, X_mean = whiten_components(X1, n_components)\n",
    "    \n",
    "    # initial un_mixing components\n",
    "    init_un_mixing = np.asarray(np.random.normal(size = (n_components, n_components)))\n",
    "    \n",
    "    # Solve ica using the parallel ica algorithm\n",
    "    un_mixing = parallel_ica(X1, init_un_mixing, alpha, max_iter, tol)\n",
    "\n",
    "    # Calculate the sources\n",
    "    sources = np.dot(np.dot(un_mixing, whitening), X.T).T\n",
    "    \n",
    "    # Calculate the mixing matrix\n",
    "    w = np.dot(un_mixing, whitening)\n",
    "    mixing = linalg.pinv(w)\n",
    "    \n",
    "    # Return mixing matrix, sources, and mean of X\n",
    "    return mixing, sources, X_mean"
   ]
  },
  {
   "cell_type": "markdown",
   "metadata": {},
   "source": [
    "## Inverse ICA Transform"
   ]
  },
  {
   "cell_type": "code",
   "execution_count": 55,
   "metadata": {},
   "outputs": [],
   "source": [
    "def inverse_fastica(mixing, source, X_mean):\n",
    "    # Inverse transform\n",
    "    X = np.dot(sources, mixing.T)\n",
    "    # Add back in mean\n",
    "    X += X_mean\n",
    "    \n",
    "    return X"
   ]
  },
  {
   "cell_type": "markdown",
   "metadata": {},
   "source": [
    "# Comparison to Scikit-learn ICA"
   ]
  },
  {
   "cell_type": "code",
   "execution_count": 56,
   "metadata": {},
   "outputs": [],
   "source": [
    "from sklearn.decomposition import FastICA"
   ]
  },
  {
   "cell_type": "code",
   "execution_count": 57,
   "metadata": {},
   "outputs": [
    {
     "data": {
      "text/plain": [
       "FastICA(algorithm='parallel', fun='logcosh', fun_args=None, max_iter=200,\n",
       "    n_components=2, random_state=None, tol=0.0001, w_init=None,\n",
       "    whiten=True)"
      ]
     },
     "execution_count": 57,
     "metadata": {},
     "output_type": "execute_result"
    }
   ],
   "source": [
    "ica = FastICA(n_components=2)\n",
    "ica.fit(features)"
   ]
  },
  {
   "cell_type": "code",
   "execution_count": 58,
   "metadata": {},
   "outputs": [
    {
     "data": {
      "text/plain": [
       "array([ 0.00000000e+00,  2.00229371e-15, -8.04352566e-15,  4.64205438e-15,\n",
       "        7.26803765e-16,  7.61154572e-17, -3.33375818e-16, -1.31225025e-16,\n",
       "       -5.86929256e-18, -5.38929303e-15,  3.63278319e-16,  6.40556056e-16,\n",
       "        7.88832920e-16, -4.32573040e-15,  6.69470044e-16,  3.92470326e-17,\n",
       "        3.00275131e-17, -3.07007248e-15, -2.52070670e-16, -5.53566962e-17,\n",
       "       -3.54931567e-15, -7.37924530e-16, -1.65328704e-16,  3.44735988e-16,\n",
       "       -1.51559035e-19, -5.06859749e-16, -1.41703257e-15,  3.50427657e-16,\n",
       "       -2.05116330e-16,  4.91043550e-16,  7.30411836e-15,  6.02374763e-19,\n",
       "        0.00000000e+00, -2.87805394e-15, -5.91130434e-16, -1.35426203e-16,\n",
       "       -1.04040933e-15, -3.36341355e-16,  9.26260861e-15,  0.00000000e+00,\n",
       "       -3.26865536e-18,  1.92018540e-16, -6.81777024e-15, -1.00828268e-16,\n",
       "       -3.80256020e-15,  2.59978769e-16,  3.83789952e-16, -3.22193271e-17,\n",
       "       -9.16912854e-17,  5.05129852e-16, -1.28506616e-17,  3.67136606e-15,\n",
       "        3.45040264e-15,  2.95565217e-16, -9.28954557e-15,  6.05062281e-16,\n",
       "       -7.90254872e-19, -1.98641573e-15,  2.01656536e-16,  4.21917185e-15,\n",
       "        5.93107459e-18, -1.68047113e-17,  4.56816307e-15, -4.45510196e-16])"
      ]
     },
     "execution_count": 58,
     "metadata": {},
     "output_type": "execute_result"
    }
   ],
   "source": [
    "ica.mean_"
   ]
  },
  {
   "cell_type": "code",
   "execution_count": 59,
   "metadata": {},
   "outputs": [
    {
     "name": "stdout",
     "output_type": "stream",
     "text": [
      "(64, 1797)\n"
     ]
    }
   ],
   "source": [
    "mixing, sources, mean = perform_fastica(features, n_components=2)"
   ]
  },
  {
   "cell_type": "code",
   "execution_count": 60,
   "metadata": {},
   "outputs": [
    {
     "data": {
      "text/plain": [
       "array([ 0.00000000e+00,  2.00229371e-15, -8.04352566e-15,  4.64205438e-15,\n",
       "        7.26803765e-16,  7.61154572e-17, -3.33375818e-16, -1.31225025e-16,\n",
       "       -5.86929256e-18, -5.38929303e-15,  3.63278319e-16,  6.40556056e-16,\n",
       "        7.88832920e-16, -4.32573040e-15,  6.69470044e-16,  3.92470326e-17,\n",
       "        3.00275131e-17, -3.07007248e-15, -2.52070670e-16, -5.53566962e-17,\n",
       "       -3.54931567e-15, -7.37924530e-16, -1.65328704e-16,  3.44735988e-16,\n",
       "       -1.51559035e-19, -5.06859749e-16, -1.41703257e-15,  3.50427657e-16,\n",
       "       -2.05116330e-16,  4.91043550e-16,  7.30411836e-15,  6.02374763e-19,\n",
       "        0.00000000e+00, -2.87805394e-15, -5.91130434e-16, -1.35426203e-16,\n",
       "       -1.04040933e-15, -3.36341355e-16,  9.26260861e-15,  0.00000000e+00,\n",
       "       -3.26865536e-18,  1.92018540e-16, -6.81777024e-15, -1.00828268e-16,\n",
       "       -3.80256020e-15,  2.59978769e-16,  3.83789952e-16, -3.22193271e-17,\n",
       "       -9.16912854e-17,  5.05129852e-16, -1.28506616e-17,  3.67136606e-15,\n",
       "        3.45040264e-15,  2.95565217e-16, -9.28954557e-15,  6.05062281e-16,\n",
       "       -7.90254872e-19, -1.98641573e-15,  2.01656536e-16,  4.21917185e-15,\n",
       "        5.93107459e-18, -1.68047113e-17,  4.56816307e-15, -4.45510196e-16])"
      ]
     },
     "execution_count": 60,
     "metadata": {},
     "output_type": "execute_result"
    }
   ],
   "source": [
    "mean"
   ]
  },
  {
   "cell_type": "code",
   "execution_count": 41,
   "metadata": {},
   "outputs": [
    {
     "data": {
      "text/plain": [
       "(64, 2)"
      ]
     },
     "execution_count": 41,
     "metadata": {},
     "output_type": "execute_result"
    }
   ],
   "source": [
    "ica.mixing_.shape"
   ]
  },
  {
   "cell_type": "code",
   "execution_count": 18,
   "metadata": {},
   "outputs": [
    {
     "data": {
      "text/plain": [
       "(1797, 2)"
      ]
     },
     "execution_count": 18,
     "metadata": {},
     "output_type": "execute_result"
    }
   ],
   "source": [
    "sources.shape"
   ]
  },
  {
   "cell_type": "code",
   "execution_count": 21,
   "metadata": {},
   "outputs": [
    {
     "data": {
      "text/plain": [
       "(64, 2)"
      ]
     },
     "execution_count": 21,
     "metadata": {},
     "output_type": "execute_result"
    }
   ],
   "source": [
    "mixing.shape"
   ]
  },
  {
   "cell_type": "code",
   "execution_count": 23,
   "metadata": {},
   "outputs": [
    {
     "data": {
      "text/plain": [
       "(2, 64)"
      ]
     },
     "execution_count": 23,
     "metadata": {},
     "output_type": "execute_result"
    }
   ],
   "source": [
    "ica.whitening_.shape"
   ]
  },
  {
   "cell_type": "code",
   "execution_count": 24,
   "metadata": {},
   "outputs": [],
   "source": [
    "X_ica = ica.transform(features)"
   ]
  },
  {
   "cell_type": "code",
   "execution_count": 25,
   "metadata": {},
   "outputs": [
    {
     "data": {
      "text/plain": [
       "(1797, 2)"
      ]
     },
     "execution_count": 25,
     "metadata": {},
     "output_type": "execute_result"
    }
   ],
   "source": [
    "X_ica.shape"
   ]
  },
  {
   "cell_type": "code",
   "execution_count": 26,
   "metadata": {},
   "outputs": [
    {
     "data": {
      "text/plain": [
       "array([[-0.03295949, -0.02683043],\n",
       "       [ 0.03488186,  0.01407798],\n",
       "       [ 0.01912196,  0.00174326],\n",
       "       ...,\n",
       "       [ 0.01965296, -0.00693867],\n",
       "       [-0.0253482 , -0.01104789],\n",
       "       [-0.01172893, -0.00928464]])"
      ]
     },
     "execution_count": 26,
     "metadata": {},
     "output_type": "execute_result"
    }
   ],
   "source": [
    "X_ica "
   ]
  },
  {
   "cell_type": "code",
   "execution_count": 27,
   "metadata": {},
   "outputs": [
    {
     "data": {
      "text/plain": [
       "array([[-0.03028885, -0.02503701],\n",
       "       [ 0.03763316,  0.01573736],\n",
       "       [ 0.02184893,  0.00343378],\n",
       "       ...,\n",
       "       [ 0.02236279, -0.00524918],\n",
       "       [-0.0226464 , -0.00926953],\n",
       "       [-0.00902368, -0.00753317]])"
      ]
     },
     "execution_count": 27,
     "metadata": {},
     "output_type": "execute_result"
    }
   ],
   "source": [
    "sources"
   ]
  },
  {
   "cell_type": "code",
   "execution_count": 29,
   "metadata": {},
   "outputs": [
    {
     "data": {
      "text/plain": [
       "(64,)"
      ]
     },
     "execution_count": 29,
     "metadata": {},
     "output_type": "execute_result"
    }
   ],
   "source": [
    "ica.mean_.shape"
   ]
  },
  {
   "cell_type": "code",
   "execution_count": 30,
   "metadata": {},
   "outputs": [
    {
     "data": {
      "text/plain": [
       "(64,)"
      ]
     },
     "execution_count": 30,
     "metadata": {},
     "output_type": "execute_result"
    }
   ],
   "source": [
    "mean.shape"
   ]
  },
  {
   "cell_type": "code",
   "execution_count": 31,
   "metadata": {},
   "outputs": [
    {
     "data": {
      "text/plain": [
       "array([0.00000000e+00, 3.03839733e-01, 5.20478575e+00, 1.18358375e+01,\n",
       "       1.18480801e+01, 5.78185865e+00, 1.36227045e+00, 1.29660545e-01,\n",
       "       5.56483027e-03, 1.99387869e+00, 1.03823038e+01, 1.19794101e+01,\n",
       "       1.02793545e+01, 8.17584864e+00, 1.84641068e+00, 1.07957707e-01,\n",
       "       2.78241514e-03, 2.60155815e+00, 9.90317195e+00, 6.99276572e+00,\n",
       "       7.09794101e+00, 7.80634391e+00, 1.78853645e+00, 5.00834725e-02,\n",
       "       1.11296605e-03, 2.46967168e+00, 9.09126322e+00, 8.82136895e+00,\n",
       "       9.92710072e+00, 7.55147468e+00, 2.31775181e+00, 2.22593211e-03,\n",
       "       0.00000000e+00, 2.33945465e+00, 7.66722315e+00, 9.07178631e+00,\n",
       "       1.03016138e+01, 8.74401781e+00, 2.90929327e+00, 0.00000000e+00,\n",
       "       8.90372844e-03, 1.58375070e+00, 6.88146912e+00, 7.22815804e+00,\n",
       "       7.67223150e+00, 8.23650529e+00, 3.45631608e+00, 2.72676683e-02,\n",
       "       7.23427935e-03, 7.04507513e-01, 7.50695604e+00, 9.53923205e+00,\n",
       "       9.41624930e+00, 8.75848637e+00, 3.72509738e+00, 2.06455203e-01,\n",
       "       5.56483027e-04, 2.79354480e-01, 5.55759599e+00, 1.20890373e+01,\n",
       "       1.18091263e+01, 6.76405120e+00, 2.06789093e+00, 3.64496383e-01])"
      ]
     },
     "execution_count": 31,
     "metadata": {},
     "output_type": "execute_result"
    }
   ],
   "source": [
    "ica.mean_"
   ]
  },
  {
   "cell_type": "code",
   "execution_count": 32,
   "metadata": {},
   "outputs": [
    {
     "data": {
      "text/plain": [
       "array([ 0.00000000e+00, -1.23910033e-15,  4.92378042e-15,  3.92044030e-15,\n",
       "        1.36118162e-15, -1.73286229e-15, -1.47214214e-15, -4.54993738e-16,\n",
       "       -5.88087669e-18,  5.09442238e-15,  1.78920750e-15, -1.86828850e-15,\n",
       "        5.33005903e-15, -7.62835043e-15,  2.86989872e-15,  5.59220017e-16,\n",
       "        3.26460092e-17,  3.32535582e-15,  1.96615123e-15, -3.14050399e-15,\n",
       "        5.26580572e-15,  2.44508550e-15, -2.36130907e-16, -4.61071545e-16,\n",
       "       -1.87662907e-18, -1.02063909e-15, -2.78365101e-15, -3.34908012e-15,\n",
       "       -3.08514730e-15, -4.52738694e-15, -4.62722669e-15, -1.04257171e-17,\n",
       "        0.00000000e+00,  1.74126465e-15, -4.07316547e-15, -2.69863894e-16,\n",
       "       -2.91018060e-15, -4.08255634e-16, -5.83790729e-15,  0.00000000e+00,\n",
       "       -1.76542142e-17,  1.04411626e-15,  5.59893441e-15, -5.58509524e-16,\n",
       "        6.54592932e-15, -2.27357859e-15,  1.97331794e-15,  1.56482290e-16,\n",
       "        6.86340399e-17, -5.92118946e-16,  8.58028791e-16, -5.83420037e-15,\n",
       "        3.58138054e-15,  3.90462410e-16,  5.69877417e-15, -6.90228805e-16,\n",
       "        6.56820174e-18, -5.14644285e-16, -9.78627307e-16,  4.37713305e-15,\n",
       "       -1.28506616e-16, -3.21859648e-15, -5.63130819e-15, -9.39395720e-16])"
      ]
     },
     "execution_count": 32,
     "metadata": {},
     "output_type": "execute_result"
    }
   ],
   "source": [
    "mean"
   ]
  },
  {
   "cell_type": "code",
   "execution_count": 34,
   "metadata": {},
   "outputs": [
    {
     "data": {
      "text/plain": [
       "array([ 0.00000000e+00,  2.08279569e-15, -8.82445048e-15, -1.53812534e-14,\n",
       "        9.35379888e-16, -1.18028384e-15, -1.05004733e-15, -1.89331022e-16,\n",
       "        8.84544864e-18, -5.38936254e-15,  3.83542823e-16,  2.41987843e-15,\n",
       "        2.39022306e-15,  1.12141793e-14,  1.52972299e-15,  1.56339419e-16,\n",
       "       -8.26291170e-17, -2.91981859e-15,  7.84878871e-16, -2.08674974e-15,\n",
       "       -9.57862368e-15,  1.46892947e-15, -2.17966991e-16,  3.28425533e-16,\n",
       "       -1.71083121e-18, -7.84878871e-16, -1.30681343e-15,  3.83542823e-16,\n",
       "       -2.05116330e-16,  2.33733764e-15,  8.44313181e-15, -8.13012861e-18,\n",
       "        0.00000000e+00, -3.19833197e-15, -1.16792744e-15, -1.35426203e-16,\n",
       "       -1.04040933e-15, -3.92192307e-16,  9.35577591e-15,  0.00000000e+00,\n",
       "       -1.62486731e-17,  3.13605569e-16, -6.98285182e-15, -1.32584230e-16,\n",
       "       -2.92228988e-15,  9.61822596e-16,  8.38999926e-16,  1.26471671e-16,\n",
       "       -9.25697486e-17,  5.05624109e-16,  4.98210265e-16,  3.13114402e-15,\n",
       "       -6.17523716e-15,  3.90462410e-16, -1.02745982e-14,  5.99069425e-16,\n",
       "       -1.22152238e-18, -3.36835611e-16, -5.85199359e-16, -1.18190717e-14,\n",
       "        5.93107459e-18, -5.42693325e-16,  4.21588196e-15, -5.88412025e-16])"
      ]
     },
     "execution_count": 34,
     "metadata": {},
     "output_type": "execute_result"
    }
   ],
   "source": [
    "features.T.mean(axis=-1)"
   ]
  },
  {
   "cell_type": "code",
   "execution_count": null,
   "metadata": {},
   "outputs": [],
   "source": []
  }
 ],
 "metadata": {
  "kernelspec": {
   "display_name": "Python 3",
   "language": "python",
   "name": "python3"
  },
  "language_info": {
   "codemirror_mode": {
    "name": "ipython",
    "version": 3
   },
   "file_extension": ".py",
   "mimetype": "text/x-python",
   "name": "python",
   "nbconvert_exporter": "python",
   "pygments_lexer": "ipython3",
   "version": "3.6.4"
  }
 },
 "nbformat": 4,
 "nbformat_minor": 2
}
