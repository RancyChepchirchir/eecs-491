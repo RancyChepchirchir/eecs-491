{
 "cells": [
  {
   "cell_type": "code",
   "execution_count": 2,
   "metadata": {},
   "outputs": [
    {
     "name": "stderr",
     "output_type": "stream",
     "text": [
      "Using TensorFlow backend.\n"
     ]
    }
   ],
   "source": [
    "# Pandas and numpy for data manipulation\n",
    "import pandas as pd\n",
    "import numpy as np\n",
    "\n",
    "# Sklearn helpers\n",
    "from sklearn.decomposition import PCA\n",
    "from sklearn.preprocessing import MinMaxScaler\n",
    "from sklearn.metrics import log_loss\n",
    "\n",
    "# Plotting results\n",
    "import matplotlib.pyplot as plt\n",
    "%matplotlib inline\n",
    "\n",
    "import seaborn as sns\n",
    "\n",
    "import matplotlib\n",
    "matplotlib.rcParams['font.size'] = 18\n",
    "\n",
    "# Keras for neural networks\n",
    "import keras \n",
    "import tensorflow as tf\n",
    "\n",
    "from keras import models, layers, optimizers, losses, metrics, callbacks"
   ]
  },
  {
   "cell_type": "code",
   "execution_count": 5,
   "metadata": {},
   "outputs": [],
   "source": [
    "# Plot the training history of a keras model\n",
    "def plot_history(history):\n",
    "    val_loss = history.history['val_loss']\n",
    "    train_loss = history.history['loss']\n",
    "    epochs = [int(i) for i in list(range(1, len(val_loss) + 1))]\n",
    "    \n",
    "    plt.figure(figsize=(8, 6))\n",
    "    \n",
    "    plt.plot(epochs, train_loss, 'bo-', label = 'training loss')\n",
    "    plt.plot(epochs, val_loss, 'ro-', label = 'validation loss')\n",
    "    plt.xlabel('Epoch'); plt.ylabel('Log Loss'); plt.title('Training Curves')\n",
    "    plt.legend();\n",
    "    plt.show()"
   ]
  },
  {
   "cell_type": "markdown",
   "metadata": {},
   "source": [
    "# Data"
   ]
  },
  {
   "cell_type": "code",
   "execution_count": 3,
   "metadata": {},
   "outputs": [],
   "source": [
    "def format_data():\n",
    "    train = pd.read_csv('numerai_datasets/numerai_training_data.csv')\n",
    "    test = pd.read_csv('numerai_datasets/numerai_tournament_data.csv')\n",
    "    \n",
    "    features = [f for f in list(train) if \"feature\" in f]\n",
    "    X = train[features]\n",
    "    Y = train.target\n",
    "    X_test = test[features]\n",
    "    ids = test['id']\n",
    "    \n",
    "    X_valid = test.ix[test['data_type'] == 'validation', features]\n",
    "    Y_valid = test.ix[test['data_type'] == 'validation', 'target']\n",
    "    \n",
    "    return X, Y, X_valid, Y_valid, X_test, ids\n",
    "\n",
    "X, Y, X_valid, Y_valid, X_test, ids = format_data()"
   ]
  },
  {
   "cell_type": "code",
   "execution_count": 4,
   "metadata": {},
   "outputs": [
    {
     "name": "stdout",
     "output_type": "stream",
     "text": [
      "(393613, 50)\n",
      "(46362, 50)\n",
      "(243393, 50)\n"
     ]
    }
   ],
   "source": [
    "print(X.shape)\n",
    "print(X_valid.shape)\n",
    "print(X_test.shape)"
   ]
  },
  {
   "cell_type": "code",
   "execution_count": 9,
   "metadata": {},
   "outputs": [],
   "source": [
    "X = np.array(X)\n",
    "X_valid = np.array(X_valid)\n",
    "X_test = np.array(X_test)"
   ]
  },
  {
   "cell_type": "markdown",
   "metadata": {},
   "source": [
    "# Model"
   ]
  },
  {
   "cell_type": "code",
   "execution_count": 6,
   "metadata": {},
   "outputs": [
    {
     "name": "stdout",
     "output_type": "stream",
     "text": [
      "_________________________________________________________________\n",
      "Layer (type)                 Output Shape              Param #   \n",
      "=================================================================\n",
      "dense_1 (Dense)              (None, 128)               6528      \n",
      "_________________________________________________________________\n",
      "dropout_1 (Dropout)          (None, 128)               0         \n",
      "_________________________________________________________________\n",
      "dense_2 (Dense)              (None, 256)               33024     \n",
      "_________________________________________________________________\n",
      "dropout_2 (Dropout)          (None, 256)               0         \n",
      "_________________________________________________________________\n",
      "dense_3 (Dense)              (None, 1024)              263168    \n",
      "_________________________________________________________________\n",
      "dropout_3 (Dropout)          (None, 1024)              0         \n",
      "_________________________________________________________________\n",
      "dense_4 (Dense)              (None, 2048)              2099200   \n",
      "_________________________________________________________________\n",
      "dropout_4 (Dropout)          (None, 2048)              0         \n",
      "_________________________________________________________________\n",
      "dense_5 (Dense)              (None, 1024)              2098176   \n",
      "_________________________________________________________________\n",
      "dropout_5 (Dropout)          (None, 1024)              0         \n",
      "_________________________________________________________________\n",
      "dense_6 (Dense)              (None, 256)               262400    \n",
      "_________________________________________________________________\n",
      "dropout_6 (Dropout)          (None, 256)               0         \n",
      "_________________________________________________________________\n",
      "dense_7 (Dense)              (None, 128)               32896     \n",
      "_________________________________________________________________\n",
      "dense_8 (Dense)              (None, 1)                 129       \n",
      "=================================================================\n",
      "Total params: 4,795,521\n",
      "Trainable params: 4,795,521\n",
      "Non-trainable params: 0\n",
      "_________________________________________________________________\n"
     ]
    }
   ],
   "source": [
    "model = models.Sequential()\n",
    "model.add(layers.Dense(128, activation = 'elu', input_dim = X.shape[1]))\n",
    "model.add(layers.Dropout(0.5))\n",
    "model.add(layers.Dense(256, activation = 'elu'))\n",
    "model.add(layers.Dropout(0.5))\n",
    "model.add(layers.Dense(1024, activation = 'elu'))\n",
    "model.add(layers.Dropout(0.5))\n",
    "model.add(layers.Dense(2048, activation = 'elu'))\n",
    "model.add(layers.Dropout(0.5))\n",
    "model.add(layers.Dense(1024, activation = 'elu'))\n",
    "model.add(layers.Dropout(0.5))\n",
    "model.add(layers.Dense(256, activation = 'elu'))\n",
    "model.add(layers.Dropout(0.5))\n",
    "model.add(layers.Dense(128, activation = 'elu'))\n",
    "\n",
    "model.add(layers.Dense(1, activation = 'sigmoid'))\n",
    "\n",
    "model.compile(loss = losses.binary_crossentropy,\n",
    "              metrics = [losses.binary_crossentropy],\n",
    "              optimizer = optimizers.Adam())\n",
    "\n",
    "model.summary()"
   ]
  },
  {
   "cell_type": "code",
   "execution_count": null,
   "metadata": {},
   "outputs": [],
   "source": []
  },
  {
   "cell_type": "code",
   "execution_count": null,
   "metadata": {},
   "outputs": [],
   "source": [
    "callback_list = [callbacks.ModelCheckpoint(filepath='models/numerai_nn_2.hdf5', \n",
    "                                           save_best_only = True, monitor = 'val_loss'),\n",
    "                callbacks.EarlyStopping(monitor = 'val_loss', patience = 3)]\n",
    "\n",
    "history = model.fit(X, Y, epochs = 25, batch_size = 2048, \n",
    "                    validation_data = [X_valid, Y_valid], callbacks=callback_list) "
   ]
  },
  {
   "cell_type": "code",
   "execution_count": null,
   "metadata": {},
   "outputs": [],
   "source": [
    "plot_history(model)"
   ]
  },
  {
   "cell_type": "code",
   "execution_count": null,
   "metadata": {},
   "outputs": [],
   "source": []
  }
 ],
 "metadata": {
  "kernelspec": {
   "display_name": "Python 3",
   "language": "python",
   "name": "python3"
  }
 },
 "nbformat": 4,
 "nbformat_minor": 2
}
