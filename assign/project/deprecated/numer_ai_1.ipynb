{
 "cells": [
  {
   "cell_type": "code",
   "execution_count": 1,
   "metadata": {},
   "outputs": [
    {
     "name": "stderr",
     "output_type": "stream",
     "text": [
      "Using TensorFlow backend.\n"
     ]
    }
   ],
   "source": [
    "import pandas as pd\n",
    "import numpy as np\n",
    "\n",
    "from sklearn.decomposition import PCA\n",
    "from sklearn.preprocessing import MinMaxScaler\n",
    "from sklearn.ensemble import RandomForestClassifier\n",
    "from sklearn.ensemble import ExtraTreesClassifier\n",
    "from sklearn.linear_model import LogisticRegression\n",
    "from sklearn.metrics import log_loss\n",
    "from sklearn.linear_model import LogisticRegressionCV\n",
    "from sklearn.naive_bayes import GaussianNB\n",
    "\n",
    "import matplotlib.pyplot as plt\n",
    "%matplotlib inline\n",
    "\n",
    "import seaborn as sns\n",
    "\n",
    "import matplotlib\n",
    "matplotlib.rcParams['font.size'] = 18\n",
    "\n",
    "import keras \n",
    "import tensorflow as tf\n",
    "\n",
    "from keras import models, layers, optimizers, losses, metrics, callbacks"
   ]
  },
  {
   "cell_type": "markdown",
   "metadata": {},
   "source": [
    "# Data"
   ]
  },
  {
   "cell_type": "code",
   "execution_count": 2,
   "metadata": {},
   "outputs": [],
   "source": [
    "def format_data():\n",
    "    train = pd.read_csv('numerai_datasets/numerai_training_data.csv')\n",
    "    test = pd.read_csv('numerai_datasets/numerai_tournament_data.csv')\n",
    "    \n",
    "    features = [f for f in list(train) if \"feature\" in f]\n",
    "    X = train[features]\n",
    "    Y = train.target\n",
    "    X_test = test[features]\n",
    "    ids = test['id']\n",
    "    \n",
    "    X_valid = test.ix[test['data_type'] == 'validation', features]\n",
    "    Y_valid = test.ix[test['data_type'] == 'validation', 'target']\n",
    "    \n",
    "    return X, Y, X_valid, Y_valid, X_test, ids"
   ]
  },
  {
   "cell_type": "code",
   "execution_count": 3,
   "metadata": {},
   "outputs": [],
   "source": [
    "X, Y, X_valid, Y_valid, X_test, ids = format_data()"
   ]
  },
  {
   "cell_type": "code",
   "execution_count": 6,
   "metadata": {},
   "outputs": [
    {
     "name": "stdout",
     "output_type": "stream",
     "text": [
      "(393613, 50)\n",
      "(46362, 50)\n",
      "(243393, 50)\n"
     ]
    }
   ],
   "source": [
    "print(X.shape)\n",
    "print(X_valid.shape)\n",
    "print(X_test.shape)"
   ]
  },
  {
   "cell_type": "code",
   "execution_count": null,
   "metadata": {},
   "outputs": [],
   "source": [
    "Y.value_counts()"
   ]
  },
  {
   "cell_type": "code",
   "execution_count": null,
   "metadata": {},
   "outputs": [],
   "source": [
    "def model(train, test):\n",
    "    features = [f for f in list(train) if \"feature\" in f]\n",
    "    X = train[features]\n",
    "    Y = train['target']\n",
    "    X_prediction = test[features]\n",
    "    ids = test['id']\n",
    "    \n",
    "    pca = PCA(n_components=0.95)\n",
    "    X = pca.fit_transform(X)\n",
    "    X_prediction = pca.transform(X_prediction)\n",
    "    \n",
    "    model = ExtraTreesClassifier(n_estimators = 100, verbose = 1, n_jobs=-1)\n",
    "    # model = LogisticRegression(n_jobs=-1)\n",
    "    model.fit(X, Y)\n",
    "    \n",
    "    predictions = model.predict_proba(X_prediction)\n",
    "    probabilities = predictions[:, 1]\n",
    "    \n",
    "    results_df = pd.DataFrame({'probability': probabilities})\n",
    "    results_df = pd.DataFrame(ids).join(results_df)\n",
    "    \n",
    "    return results_df"
   ]
  },
  {
   "cell_type": "code",
   "execution_count": null,
   "metadata": {},
   "outputs": [],
   "source": [
    "results = model(train, test)\n",
    "results.to_csv('numerai_extratrees.csv', index=False)"
   ]
  },
  {
   "cell_type": "markdown",
   "metadata": {},
   "source": [
    "# Keras Neural Network"
   ]
  },
  {
   "cell_type": "code",
   "execution_count": 10,
   "metadata": {},
   "outputs": [],
   "source": [
    "def plot_history(history):\n",
    "    val_loss = history.history['val_loss']\n",
    "    train_loss = history.history['loss']\n",
    "    epochs = [int(i) for i in list(range(1, len(val_loss) + 1))]\n",
    "    \n",
    "    plt.figure(figsize=(8, 6))\n",
    "    \n",
    "    plt.plot(epochs, train_loss, 'bo-', label = 'training loss')\n",
    "    plt.plot(epochs, val_loss, 'ro-', label = 'validation loss')\n",
    "    plt.xlabel('Epoch'); plt.ylabel('Log Loss'); plt.title('Training Curves')\n",
    "    plt.legend();\n",
    "    plt.show()\n",
    "    "
   ]
  },
  {
   "cell_type": "code",
   "execution_count": 11,
   "metadata": {},
   "outputs": [],
   "source": [
    "pca = PCA(n_components = 0.99)\n",
    "scaler = MinMaxScaler()\n",
    "\n",
    "X = pca.fit_transform(X)\n",
    "X_valid = pca.transform(X_valid)\n",
    "X_test = pca.transform(X_test)\n",
    "\n",
    "X = scaler.fit_transform(X)\n",
    "X_valid = scaler.transform(X_valid)\n",
    "X_test = scaler.transform(X_test)"
   ]
  },
  {
   "cell_type": "code",
   "execution_count": 12,
   "metadata": {},
   "outputs": [
    {
     "data": {
      "text/plain": [
       "(393613, 35)"
      ]
     },
     "execution_count": 12,
     "metadata": {},
     "output_type": "execute_result"
    }
   ],
   "source": [
    "X.shape"
   ]
  },
  {
   "cell_type": "code",
   "execution_count": 24,
   "metadata": {},
   "outputs": [
    {
     "name": "stdout",
     "output_type": "stream",
     "text": [
      "_________________________________________________________________\n",
      "Layer (type)                 Output Shape              Param #   \n",
      "=================================================================\n",
      "dense_25 (Dense)             (None, 128)               4608      \n",
      "_________________________________________________________________\n",
      "dropout_19 (Dropout)         (None, 128)               0         \n",
      "_________________________________________________________________\n",
      "dense_26 (Dense)             (None, 256)               33024     \n",
      "_________________________________________________________________\n",
      "dropout_20 (Dropout)         (None, 256)               0         \n",
      "_________________________________________________________________\n",
      "dense_27 (Dense)             (None, 1024)              263168    \n",
      "_________________________________________________________________\n",
      "dropout_21 (Dropout)         (None, 1024)              0         \n",
      "_________________________________________________________________\n",
      "dense_28 (Dense)             (None, 256)               262400    \n",
      "_________________________________________________________________\n",
      "dropout_22 (Dropout)         (None, 256)               0         \n",
      "_________________________________________________________________\n",
      "dense_29 (Dense)             (None, 128)               32896     \n",
      "_________________________________________________________________\n",
      "dense_30 (Dense)             (None, 1)                 129       \n",
      "=================================================================\n",
      "Total params: 596,225\n",
      "Trainable params: 596,225\n",
      "Non-trainable params: 0\n",
      "_________________________________________________________________\n"
     ]
    }
   ],
   "source": [
    "model = models.Sequential()\n",
    "model.add(layers.Dense(128, activation = 'elu', input_dim = X.shape[1]))\n",
    "model.add(layers.Dropout(0.5))\n",
    "model.add(layers.Dense(256, activation = 'elu'))\n",
    "model.add(layers.Dropout(0.5))\n",
    "model.add(layers.Dense(1024, activation = 'elu'))\n",
    "model.add(layers.Dropout(0.5))\n",
    "model.add(layers.Dense(256, activation = 'elu'))\n",
    "model.add(layers.Dropout(0.5))\n",
    "model.add(layers.Dense(128, activation = 'elu'))\n",
    "# model.add(layers.Dropout(0.5))\n",
    "# model.add(layers.Dense(256, activation = 'elu'))\n",
    "# model.add(layers.Dropout(0.5))\n",
    "# model.add(layers.Dense(128, activation = 'elu'))\n",
    "# model.add(layers.Dropout(0.5))\n",
    "# model.add(layers.Dense(64, activation = 'elu'))\n",
    "# model.add(layers.Dropout(0.5))\n",
    "# model.add(layers.Dense(32, activation = 'elu'))\n",
    "model.add(layers.Dense(1, activation = 'sigmoid'))\n",
    "\n",
    "model.compile(loss = losses.binary_crossentropy,\n",
    "              metrics = [losses.binary_crossentropy],\n",
    "              optimizer = optimizers.Adam())\n",
    "\n",
    "model.summary()"
   ]
  },
  {
   "cell_type": "code",
   "execution_count": 25,
   "metadata": {},
   "outputs": [
    {
     "name": "stdout",
     "output_type": "stream",
     "text": [
      "Train on 393613 samples, validate on 46362 samples\n",
      "Epoch 1/25\n",
      "393613/393613 [==============================] - 16s 42us/step - loss: 0.6965 - binary_crossentropy: 0.6965 - val_loss: 0.6928 - val_binary_crossentropy: 0.6928\n",
      "Epoch 2/25\n",
      "393613/393613 [==============================] - 14s 36us/step - loss: 0.6941 - binary_crossentropy: 0.6941 - val_loss: 0.6931 - val_binary_crossentropy: 0.6931\n",
      "Epoch 3/25\n",
      "393613/393613 [==============================] - 14s 36us/step - loss: 0.6941 - binary_crossentropy: 0.6941 - val_loss: 0.6930 - val_binary_crossentropy: 0.6930\n",
      "Epoch 4/25\n",
      "393613/393613 [==============================] - 15s 38us/step - loss: 0.6939 - binary_crossentropy: 0.6939 - val_loss: 0.6929 - val_binary_crossentropy: 0.6929\n"
     ]
    },
    {
     "data": {
      "image/png": "[encoded data removed]",
      "text/plain": [
       "<Figure size 576x432 with 1 Axes>"
      ]
     },
     "metadata": {},
     "output_type": "display_data"
    }
   ],
   "source": [
    "callback_list = [callbacks.ModelCheckpoint(filepath='models/numerai_nn_1.hdf5', save_best_only = True, monitor = 'val_loss'),\n",
    "                callbacks.EarlyStopping(monitor = 'val_loss', patience = 3)]\n",
    "\n",
    "history = model.fit(X, Y, epochs = 25, batch_size = 2048, \n",
    "                    validation_data = [X_valid, Y_valid], callbacks=callback_list)    \n",
    "\n",
    "plot_history(history)"
   ]
  },
  {
   "cell_type": "code",
   "execution_count": 26,
   "metadata": {},
   "outputs": [],
   "source": [
    "model.load_weights('models/numerai_nn_1.hdf5')\n",
    "p_array = model.predict(X_test)\n",
    "p = p_array[:, 0]"
   ]
  },
  {
   "cell_type": "code",
   "execution_count": 27,
   "metadata": {},
   "outputs": [],
   "source": [
    "results = pd.DataFrame({'id': ids, 'probability': p})\n",
    "results.to_csv('numerai_nn.csv', index=False)"
   ]
  },
  {
   "cell_type": "markdown",
   "metadata": {},
   "source": [
    "# Traditional Methods"
   ]
  },
  {
   "cell_type": "code",
   "execution_count": null,
   "metadata": {},
   "outputs": [],
   "source": [
    "corrs = pd.Series(train.corr()['target'].sort_values())"
   ]
  },
  {
   "cell_type": "code",
   "execution_count": null,
   "metadata": {},
   "outputs": [],
   "source": [
    "top_corrs = corrs[abs(corrs.values) > 0.01]\n",
    "top_corrs_names = list(top_corrs.index)\n",
    "top_corrs_names.remove('target')"
   ]
  },
  {
   "cell_type": "code",
   "execution_count": null,
   "metadata": {},
   "outputs": [],
   "source": [
    "# features = [f for f in list(train) if \"feature\" in f]\n",
    "features = top_corrs_names\n",
    "X = train[features]\n",
    "Y = train['target']\n",
    "X_test = test[features]\n",
    "\n",
    "X_valid = test.ix[test['data_type'] == 'validation', features]\n",
    "Y_valid = test.ix[test['data_type'] == 'validation', 'target']\n",
    "ids = test['id']"
   ]
  },
  {
   "cell_type": "markdown",
   "metadata": {},
   "source": [
    "# Logistic Regression"
   ]
  },
  {
   "cell_type": "code",
   "execution_count": null,
   "metadata": {},
   "outputs": [],
   "source": [
    "lr_model = LogisticRegressionCV(n_jobs=-1, cv = 3, Cs=50, scoring = 'log_loss')\n",
    "lr_model.fit(X, Y)"
   ]
  },
  {
   "cell_type": "code",
   "execution_count": null,
   "metadata": {},
   "outputs": [],
   "source": [
    "lr_valid_pred = lr_model.predict_proba(X_valid)[:, 1]\n",
    "print('Validation Log Loss using Logistic Regression = {:0.6f}.'.format(log_loss(Y_valid, lr_valid_pred)))"
   ]
  },
  {
   "cell_type": "code",
   "execution_count": null,
   "metadata": {},
   "outputs": [],
   "source": [
    "lr_pred = lr_model.predict_proba(X_test)[:, 1]\n",
    "results = pd.DataFrame({'id': ids, 'probability': lr_pred})\n",
    "results.to_csv('submissions/101/lr_cv.csv', index=False)"
   ]
  },
  {
   "cell_type": "code",
   "execution_count": null,
   "metadata": {},
   "outputs": [],
   "source": [
    "gnb = GaussianNB()\n",
    "gnb.fit(X, Y)"
   ]
  },
  {
   "cell_type": "code",
   "execution_count": null,
   "metadata": {},
   "outputs": [],
   "source": [
    "gnb_valid_pred = gnb.predict_proba(X_valid)[:, 1]\n",
    "print('Validation Log Loss using Logistic Regression = {:0.6f}.'.format(log_loss(Y_valid, gnb_valid_pred)))"
   ]
  },
  {
   "cell_type": "code",
   "execution_count": null,
   "metadata": {},
   "outputs": [],
   "source": [
    "gnb_pred = gnb.predict_proba(X_test)[:, 1]\n",
    "results = pd.DataFrame({'id': ids, 'probability': gnb_pred})\n",
    "results.to_csv('submissions/101/gnb.csv', index=False)"
   ]
  },
  {
   "cell_type": "code",
   "execution_count": null,
   "metadata": {},
   "outputs": [],
   "source": [
    "combined_valid = 0.8 * lr_valid_pred + 0.2 * gnb_valid_pred\n",
    "print('Validation Log Loss Combined = {:0.6f}.'.format(log_loss(Y_valid, combined_valid)))"
   ]
  },
  {
   "cell_type": "code",
   "execution_count": null,
   "metadata": {},
   "outputs": [],
   "source": [
    "combined_pred = 0.8 * lr_pred + 0.2 * gnb_pred\n",
    "results = pd.DataFrame({'id': ids, 'probability': combined_pred})\n",
    "results.to_csv('submissions/101/lr_gnb.csv', index=False)"
   ]
  },
  {
   "cell_type": "code",
   "execution_count": null,
   "metadata": {},
   "outputs": [],
   "source": [
    "features = [f for f in list(train) if \"feature\" in f]\n",
    "# features = top_corrs_names\n",
    "X = train[features]\n",
    "Y = train['target']\n",
    "X_test = test[features]\n",
    "\n",
    "X_valid = test.ix[test['data_type'] == 'validation', features]\n",
    "Y_valid = test.ix[test['data_type'] == 'validation', 'target']\n",
    "ids = test['id']"
   ]
  },
  {
   "cell_type": "code",
   "execution_count": null,
   "metadata": {},
   "outputs": [],
   "source": [
    "lr_model2 = LogisticRegressionCV(n_jobs=-1, cv = 3, Cs=50, scoring = 'log_loss')\n",
    "lr_model2.fit(X, Y)"
   ]
  },
  {
   "cell_type": "code",
   "execution_count": null,
   "metadata": {},
   "outputs": [],
   "source": [
    "lr_valid_pred2 = lr_model2.predict_proba(X_valid)[:, 1]\n",
    "print('Validation Log Loss using Logistic Regression = {:0.6f}.'.format(log_loss(Y_valid, lr_valid_pred2)))"
   ]
  },
  {
   "cell_type": "code",
   "execution_count": null,
   "metadata": {},
   "outputs": [],
   "source": [
    "lr_valid_pred = lr_model.predict_proba(X_valid)[:, 1]\n",
    "print('Validation Log Loss using Logistic Regression = {:0.6f}.'.format(log_loss(Y_valid, lr_valid_pred)))"
   ]
  },
  {
   "cell_type": "code",
   "execution_count": null,
   "metadata": {},
   "outputs": [],
   "source": [
    "log_loss(Y_valid, [0.5 for _ in range(len(Y_valid))])"
   ]
  },
  {
   "cell_type": "code",
   "execution_count": null,
   "metadata": {},
   "outputs": [],
   "source": [
    "-np.log(0.5)"
   ]
  },
  {
   "cell_type": "code",
   "execution_count": null,
   "metadata": {},
   "outputs": [],
   "source": [
    "p = lr_model.predict_proba(X_test)[:, 1]\n",
    "results = pd.DataFrame({'id': ids, 'probability': p})\n",
    "results.to_csv('submissions/numerai4.csv', index=False)"
   ]
  },
  {
   "cell_type": "markdown",
   "metadata": {},
   "source": [
    "# Support Vector Machine"
   ]
  },
  {
   "cell_type": "code",
   "execution_count": 4,
   "metadata": {},
   "outputs": [],
   "source": [
    "from sklearn.svm import SVC\n",
    "from sklearn.svm import LinearSVC"
   ]
  },
  {
   "cell_type": "code",
   "execution_count": 5,
   "metadata": {},
   "outputs": [],
   "source": [
    "full_X = train[features]\n",
    "full_X_test = test[features]\n",
    "full_X_valid = test.ix[test['data_type'] == 'validation', features]"
   ]
  },
  {
   "cell_type": "code",
   "execution_count": null,
   "metadata": {},
   "outputs": [],
   "source": [
    "svm = SVC(probability=True)\n",
    "svm.fit(full_X, Y)"
   ]
  },
  {
   "cell_type": "code",
   "execution_count": null,
   "metadata": {},
   "outputs": [],
   "source": [
    "svm_valid_pred = svm.predict_proba(full_X_valid)[:, 1]\n",
    "print('Validation Log Loss using Support Vector Classifier = {:0.6f}.'.format(log_loss(Y_valid, svm_valid_pred)))"
   ]
  },
  {
   "cell_type": "code",
   "execution_count": null,
   "metadata": {},
   "outputs": [],
   "source": []
  }
 ],
 "metadata": {
  "kernelspec": {
   "display_name": "Python 3",
   "language": "python",
   "name": "python3"
  },
  "language_info": {
   "codemirror_mode": {
    "name": "ipython",
    "version": 3
   },
   "file_extension": ".py",
   "mimetype": "text/x-python",
   "name": "python",
   "nbconvert_exporter": "python",
   "pygments_lexer": "ipython3",
   "version": "3.6.4"
  }
 },
 "nbformat": 4,
 "nbformat_minor": 2
}
