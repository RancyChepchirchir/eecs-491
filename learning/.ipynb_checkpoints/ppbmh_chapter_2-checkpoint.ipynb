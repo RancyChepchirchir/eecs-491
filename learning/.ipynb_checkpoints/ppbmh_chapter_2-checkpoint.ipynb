{
 "cells": [
  {
   "cell_type": "markdown",
   "metadata": {},
   "source": [
    "Learning a little more about PyMC3. \n",
    "How to think about models from a Bayesian Perspective, data visualization techniques for assessing goodness of fit."
   ]
  },
  {
   "cell_type": "code",
   "execution_count": null,
   "metadata": {},
   "outputs": [],
   "source": [
    "import pymc3 as pm"
   ]
  },
  {
   "cell_type": "code",
   "execution_count": null,
   "metadata": {},
   "outputs": [],
   "source": [
    "with pm.Model() as model:\n",
    "    parameter = pm.Exponential('poisson_param', 0.5)\n",
    "    data_generator = pm.Poisson(\"data_generator\", parameter)"
   ]
  },
  {
   "cell_type": "code",
   "execution_count": null,
   "metadata": {},
   "outputs": [],
   "source": [
    "with model:\n",
    "    data_plus_one = data_generator + 1"
   ]
  },
  {
   "cell_type": "code",
   "execution_count": null,
   "metadata": {},
   "outputs": [],
   "source": [
    "data_plus_one"
   ]
  },
  {
   "cell_type": "code",
   "execution_count": null,
   "metadata": {},
   "outputs": [],
   "source": [
    "parameter.tag.test_value"
   ]
  },
  {
   "cell_type": "code",
   "execution_count": null,
   "metadata": {},
   "outputs": [],
   "source": [
    "with pm.Model() as ab_testing:\n",
    "    p_A = pm.Uniform(\"P(A)\", 0, 0.5)\n",
    "    p_B = pm.Uniform(\"P(B)\", 0, 1)"
   ]
  },
  {
   "cell_type": "code",
   "execution_count": null,
   "metadata": {},
   "outputs": [],
   "source": [
    "p_A.tag.test_value"
   ]
  },
  {
   "cell_type": "code",
   "execution_count": null,
   "metadata": {},
   "outputs": [],
   "source": [
    "print(\"parameter.tag.test_value =\", parameter.tag.test_value)\n",
    "print(\"data_generator.tag.test_value =\", data_generator.tag.test_value)\n",
    "print(\"data_plus_one.tag.test_value =\", data_plus_one.tag.test_value)"
   ]
  },
  {
   "cell_type": "code",
   "execution_count": null,
   "metadata": {},
   "outputs": [],
   "source": [
    "with pm.Model() as model:\n",
    "    parameter = pm.Exponential(\"poisson_param\", 1.0, testval=0.5)\n",
    "\n",
    "print(\"\\nparameter.tag.test_value =\", parameter.tag.test_value)"
   ]
  },
  {
   "cell_type": "markdown",
   "metadata": {},
   "source": [
    "Two types of programming variables:\n",
    "    * Stochastic: even if all the parameters and components are known, the variable is still random. Examples are poisson, discrete uniform, and exponential\n",
    "    * Deterministic: not random if the parameters values and components are known. If all of the component variables have values, the value of the determistic variable can be found. "
   ]
  },
  {
   "cell_type": "markdown",
   "metadata": {},
   "source": [
    "## Stochastic Variables"
   ]
  },
  {
   "cell_type": "markdown",
   "metadata": {},
   "source": [
    "Initialization requires a name argument plus class specific parameters"
   ]
  },
  {
   "cell_type": "code",
   "execution_count": null,
   "metadata": {},
   "outputs": [],
   "source": [
    "with pm.Model() as model:\n",
    "    stochastic_var = pm.Exponential(\"exponential_var\", 1)\n",
    "    betas = pm.Poisson(\"betas\", 12, shape=2)"
   ]
  },
  {
   "cell_type": "code",
   "execution_count": null,
   "metadata": {},
   "outputs": [],
   "source": [
    "stochastic_var.tag.test_value"
   ]
  },
  {
   "cell_type": "code",
   "execution_count": null,
   "metadata": {},
   "outputs": [],
   "source": [
    "betas.tag.test_value"
   ]
  },
  {
   "cell_type": "markdown",
   "metadata": {},
   "source": [
    "## Deterministic Variables"
   ]
  },
  {
   "cell_type": "code",
   "execution_count": null,
   "metadata": {},
   "outputs": [],
   "source": [
    "with pm.Model() as determine_model:\n",
    "    lambdas = pm.Exponential('lambdas', 1.0, shape = 4)\n",
    "    taus = pm.DiscreteUniform('taus', 0, 12, shape = 4)\n",
    "    deterministic_var = pm.Deterministic(\"deterministic_var\", lambdas)\n",
    "    new_var = lambdas + taus"
   ]
  },
  {
   "cell_type": "code",
   "execution_count": null,
   "metadata": {},
   "outputs": [],
   "source": [
    "deterministic_var.tag.test_value"
   ]
  },
  {
   "cell_type": "code",
   "execution_count": null,
   "metadata": {},
   "outputs": [],
   "source": [
    "new_var.tag.test_value"
   ]
  },
  {
   "cell_type": "code",
   "execution_count": null,
   "metadata": {},
   "outputs": [],
   "source": [
    "import numpy as np\n",
    "\n",
    "n_data_points = 5  # in CH1 we had ~70 data points\n",
    "idx = np.arange(n_data_points)\n",
    "with pm.Model() as model:\n",
    "    lambda_1 = pm.Exponential('lambda_1', 1.0)\n",
    "    lambda_2 = pm.Exponential('lambda_2', 10) \n",
    "    tau = pm.DiscreteUniform('tau', 0, 5)\n",
    "    lambda_ = pm.math.switch(tau >= idx, lambda_1, lambda_2)"
   ]
  },
  {
   "cell_type": "code",
   "execution_count": null,
   "metadata": {},
   "outputs": [],
   "source": [
    "lambda_.tag.test_value"
   ]
  },
  {
   "cell_type": "code",
   "execution_count": null,
   "metadata": {},
   "outputs": [],
   "source": [
    "import theano.tensor as tt\n",
    "\n",
    "with pm.Model() as theano_test:\n",
    "    p1 = pm.Uniform(\"p\", 0, 1)\n",
    "    p2 = 1 - p1\n",
    "    p = tt.stack([p1, p2])\n",
    "    \n",
    "    assignment = pm.Categorical(\"assignment\", p)"
   ]
  },
  {
   "cell_type": "code",
   "execution_count": null,
   "metadata": {},
   "outputs": [],
   "source": [
    "with pm.Model() as model:\n",
    "    lambda_1 = pm.Exponential(\"lambda_1\", 1.0)\n",
    "    lambda_2 = pm.Exponential(\"lambda_2\", 1.0)\n",
    "    tau = pm.DiscreteUniform(\"tau\", lower=0, upper=10)\n",
    "\n",
    "new_deterministic_variable = lambda_1 + lambda_2\n",
    "\n",
    "n_data_points = 5  # in CH1 we had ~70 data points\n",
    "idx = np.arange(n_data_points)\n",
    "with model:\n",
    "    lambda_ = pm.math.switch(tau >= idx, lambda_1, lambda_2)"
   ]
  },
  {
   "cell_type": "code",
   "execution_count": null,
   "metadata": {},
   "outputs": [],
   "source": [
    "%matplotlib inline\n",
    "from IPython.core.pylabtools import figsize\n",
    "import matplotlib.pyplot as plt\n",
    "import scipy.stats as stats\n",
    "figsize(12.5, 4)\n",
    "\n",
    "\n",
    "samples = [lambda_1.random() for i in range(20000)]\n",
    "plt.hist(samples, bins=70, normed=True, histtype=\"stepfilled\")\n",
    "plt.title(\"Prior distribution for $\\lambda_1$\")\n",
    "plt.xlim(0, 8);"
   ]
  },
  {
   "cell_type": "markdown",
   "metadata": {},
   "source": [
    "Fix stochastic variables to an observed value."
   ]
  },
  {
   "cell_type": "code",
   "execution_count": null,
   "metadata": {},
   "outputs": [],
   "source": [
    "data = np.array([10, 5])\n",
    "with model:\n",
    "    fixed_variable = pm.Poisson(\"fxd\", 1, observed=data)\n",
    "print(\"value: \", fixed_variable.tag.test_value)"
   ]
  },
  {
   "cell_type": "code",
   "execution_count": null,
   "metadata": {},
   "outputs": [],
   "source": [
    "# We're using some fake data here\n",
    "data = np.array([10, 25, 15, 20, 35])\n",
    "with model:\n",
    "    obs = pm.Poisson(\"obs\", lambda_, observed=data)\n",
    "print(obs.tag.test_value)"
   ]
  },
  {
   "cell_type": "markdown",
   "metadata": {},
   "source": [
    "Telling a story with distributions."
   ]
  },
  {
   "cell_type": "code",
   "execution_count": null,
   "metadata": {},
   "outputs": [],
   "source": [
    "tau = np.random.randint(0, 80)\n",
    "alpha = 1./20.\n",
    "lambda_1, lambda_2 = np.random.exponential(scale=1/alpha, size=2)"
   ]
  },
  {
   "cell_type": "code",
   "execution_count": null,
   "metadata": {},
   "outputs": [],
   "source": [
    "data = np.r_[stats.poisson.rvs(mu=lambda_1, size=tau), stats.poisson.rvs(mu=lambda_2, size = 80 - tau)]"
   ]
  },
  {
   "cell_type": "code",
   "execution_count": null,
   "metadata": {},
   "outputs": [],
   "source": [
    "plt.bar(np.arange(80), data, color=\"#348ABD\")\n",
    "plt.bar(tau-1, data[tau - 1], color=\"r\", label=\"user behaviour changed\")\n",
    "plt.xlabel(\"Time (days)\")\n",
    "plt.ylabel(\"count of text-msgs received\")\n",
    "plt.title(\"Artificial dataset\")\n",
    "plt.xlim(0, 80)\n",
    "plt.legend();"
   ]
  },
  {
   "cell_type": "code",
   "execution_count": null,
   "metadata": {},
   "outputs": [],
   "source": [
    "def plot_artificial_sms_dataset():\n",
    "    tau = stats.randint.rvs(0, 80)\n",
    "    alpha = 1./20.\n",
    "    lambda_1, lambda_2 = stats.expon.rvs(scale=1/alpha, size=2)\n",
    "    data = np.r_[stats.poisson.rvs(mu=lambda_1, size=tau), stats.poisson.rvs(mu=lambda_2, size=80 - tau)]\n",
    "    plt.bar(np.arange(80), data, color=\"#348ABD\")\n",
    "    plt.bar(tau - 1, data[tau-1], color=\"r\", label=\"user behaviour changed\")\n",
    "    plt.xlim(0, 80);\n",
    "\n",
    "figsize(12.5, 5)\n",
    "plt.title(\"More example of artificial datasets\")\n",
    "for i in range(4):\n",
    "    plt.subplot(4, 1, i+1)\n",
    "    plot_artificial_sms_dataset()"
   ]
  },
  {
   "cell_type": "markdown",
   "metadata": {},
   "source": [
    "# Observed frequency differs from the true frequency\n",
    "\n",
    "This is where Bayesian reasoning is more accurate than looking at the statistics only. We take into account the data, but also the prior estimates. We acknowledge that the measured data may not be true data."
   ]
  },
  {
   "cell_type": "markdown",
   "metadata": {},
   "source": [
    "## Example Using A/B Testing \n",
    "\n",
    "Know both the number of users and the buy rate. This is the observed frequency but not necessarily the true frequency."
   ]
  },
  {
   "cell_type": "code",
   "execution_count": null,
   "metadata": {},
   "outputs": [],
   "source": [
    "import pymc3 as pm\n",
    "\n",
    "# The parameters are the bounds of the Uniform.\n",
    "with pm.Model() as model:\n",
    "    p = pm.Uniform('p', lower=0, upper=1)\n",
    "    \n",
    "#set constants\n",
    "p_true = 0.05  # remember, this is unknown.\n",
    "N = 1500\n",
    "\n",
    "# sample N Bernoulli random variables from Ber(0.05).\n",
    "# each random variable has a 0.05 chance of being a 1.\n",
    "# this is the data-generation step\n",
    "occurrences = stats.bernoulli.rvs(p_true, size=N)\n",
    "\n",
    "print(occurrences) # Remember: Python treats True == 1, and False == 0\n",
    "print(np.sum(occurrences))"
   ]
  },
  {
   "cell_type": "code",
   "execution_count": null,
   "metadata": {},
   "outputs": [],
   "source": [
    "print(\"What is the observed frequency in Group A? %.4f\" % np.mean(occurrences))\n",
    "print(\"Does this equal the true frequency? %s\" % (np.mean(occurrences) == p_true))"
   ]
  },
  {
   "cell_type": "code",
   "execution_count": null,
   "metadata": {},
   "outputs": [],
   "source": [
    "#include the observations, which are Bernoulli\n",
    "with model:\n",
    "    obs = pm.Bernoulli(\"obs\", p, observed=occurrences)\n",
    "    # To be explained in chapter 3\n",
    "    step = pm.Metropolis()\n",
    "    trace = pm.sample(18000, step=step)\n",
    "    burned_trace = trace[1000:]"
   ]
  },
  {
   "cell_type": "code",
   "execution_count": null,
   "metadata": {},
   "outputs": [],
   "source": [
    "figsize(12.5, 4)\n",
    "plt.title(\"Posterior distribution of $p_A$, the true effectiveness of site A\")\n",
    "plt.vlines(p_true, 0, 90, linestyle=\"--\", label=\"true $p_A$ (unknown)\")\n",
    "plt.hist(burned_trace[\"p\"], bins=25, histtype=\"stepfilled\", normed=True)\n",
    "plt.legend();"
   ]
  },
  {
   "cell_type": "markdown",
   "metadata": {},
   "source": [
    "The graph represents that we are uncertain about the true conversion. We have a belief based on the data, but it does not represent the true value because of noise in observations. This shows that one trial in the real world skews the results from the true frequency."
   ]
  },
  {
   "cell_type": "code",
   "execution_count": null,
   "metadata": {},
   "outputs": [],
   "source": [
    "import pymc3 as pm\n",
    "\n",
    "# The parameters are the bounds of the Uniform.\n",
    "with pm.Model() as model:\n",
    "    p = pm.Uniform('p', lower=0, upper=1)\n",
    "    \n",
    "#set constants\n",
    "p_true = 0.05  # remember, this is unknown.\n",
    "N = 10000\n",
    "\n",
    "# sample N Bernoulli random variables from Ber(0.05).\n",
    "# each random variable has a 0.05 chance of being a 1.\n",
    "# this is the data-generation step\n",
    "occurrences = stats.bernoulli.rvs(p_true, size=N)\n",
    "\n",
    "print(occurrences) # Remember: Python treats True == 1, and False == 0\n",
    "print(np.sum(occurrences))\n",
    "\n",
    "\n",
    "print(\"What is the observed frequency in Group A? %.4f\" % np.mean(occurrences))\n",
    "print(\"Does this equal the true frequency? %s\" % (np.mean(occurrences) == p_true))\n",
    "\n",
    "#include the observations, which are Bernoulli\n",
    "with model:\n",
    "    obs = pm.Bernoulli(\"obs\", p, observed=occurrences)\n",
    "    # To be explained in chapter 3\n",
    "    step = pm.Metropolis()\n",
    "    trace = pm.sample(18000, step=step)\n",
    "    burned_trace = trace[1000:]\n",
    "    \n",
    "figsize(12.5, 4)\n",
    "plt.title(\"Posterior distribution of $p_A$, the true effectiveness of site A\")\n",
    "plt.vlines(p_true, 0, N * p_true, linestyle=\"--\", label=\"true $p_A$ (unknown)\")\n",
    "plt.hist(burned_trace[\"p\"], bins=25, histtype=\"stepfilled\", normed=True)\n",
    "plt.legend();"
   ]
  },
  {
   "cell_type": "code",
   "execution_count": null,
   "metadata": {},
   "outputs": [],
   "source": [
    "import pymc3 as pm\n",
    "figsize(12, 4)\n",
    "\n",
    "#these two quantities are unknown to us.\n",
    "true_p_A = 0.05\n",
    "true_p_B = 0.04\n",
    "\n",
    "#notice the unequal sample sizes -- no problem in Bayesian analysis.\n",
    "N_A = 10000\n",
    "N_B = 25000\n",
    "\n",
    "#generate some observations\n",
    "observations_A = stats.bernoulli.rvs(true_p_A, size=N_A)\n",
    "observations_B = stats.bernoulli.rvs(true_p_B, size=N_B)\n",
    "print(\"Obs from Site A: \", observations_A[:30], \"...\")\n",
    "print(\"Obs from Site B: \", observations_B[:30], \"...\")\n",
    "\n",
    "print(np.mean(observations_A))\n",
    "print(np.mean(observations_B))"
   ]
  },
  {
   "cell_type": "code",
   "execution_count": null,
   "metadata": {},
   "outputs": [],
   "source": [
    "# Set up the pymc3 model. Again assume Uniform priors for p_A and p_B.\n",
    "with pm.Model() as model:\n",
    "    p_A = pm.Uniform(\"p_A\", 0, 1)\n",
    "    p_B = pm.Uniform(\"p_B\", 0, 1)\n",
    "    \n",
    "    # Define the deterministic delta function. This is our unknown of interest.\n",
    "    delta = pm.Deterministic(\"delta\", p_A - p_B)\n",
    "\n",
    "    \n",
    "    # Set of observations, in this case we have two observation datasets.\n",
    "    obs_A = pm.Bernoulli(\"obs_A\", p_A, observed=observations_A)\n",
    "    obs_B = pm.Bernoulli(\"obs_B\", p_B, observed=observations_B)\n",
    "\n",
    "    # To be explained in chapter 3.\n",
    "    step = pm.Metropolis()\n",
    "    trace = pm.sample(20000, step=step)\n",
    "    burned_trace=trace[1000:]"
   ]
  },
  {
   "cell_type": "code",
   "execution_count": null,
   "metadata": {},
   "outputs": [],
   "source": [
    "p_A_samples = burned_trace[\"p_A\"]\n",
    "p_B_samples = burned_trace[\"p_B\"]\n",
    "delta_samples = burned_trace[\"delta\"]\n",
    "\n",
    "figsize(12.5, 10)\n",
    "\n",
    "#histogram of posteriors\n",
    "\n",
    "ax = plt.subplot(311)\n",
    "\n",
    "plt.xlim(0, .1)\n",
    "plt.hist(p_A_samples, histtype='stepfilled', bins=25, alpha=0.85,\n",
    "         label=\"posterior of $p_A$\", color=\"#A60628\", normed=True)\n",
    "plt.vlines(true_p_A, 0, 150, linestyle=\"--\", label=\"true $p_A$ (unknown)\")\n",
    "plt.legend(loc=\"upper right\")\n",
    "plt.title(\"Posterior distributions of $p_A$, $p_B$, and delta unknowns\")\n",
    "\n",
    "ax = plt.subplot(312)\n",
    "\n",
    "plt.xlim(0, .1)\n",
    "plt.hist(p_B_samples, histtype='stepfilled', bins=25, alpha=0.85,\n",
    "         label=\"posterior of $p_B$\", color=\"#467821\", normed=True)\n",
    "plt.vlines(true_p_B, 0, 300, linestyle=\"--\", label=\"true $p_B$ (unknown)\")\n",
    "plt.legend(loc=\"upper right\")\n",
    "\n",
    "ax = plt.subplot(313)\n",
    "plt.hist(delta_samples, histtype='stepfilled', bins=30, alpha=0.85,\n",
    "         label=\"posterior of delta\", color=\"#7A68A6\", normed=True)\n",
    "plt.vlines(true_p_A - true_p_B, 0, 150, linestyle=\"--\",\n",
    "           label=\"true delta (unknown)\")\n",
    "plt.vlines(0, 0, 150, color=\"black\", alpha=0.2)\n",
    "plt.legend(loc=\"upper right\");"
   ]
  },
  {
   "cell_type": "markdown",
   "metadata": {},
   "source": [
    "# True Value is Not Equal to the Observed Value\n",
    "\n",
    "Bayesian thinking expresses our uncertainty in the observed value. There should be a range of possible values. Each time we measure, we can expect different results because of random noise."
   ]
  },
  {
   "cell_type": "code",
   "execution_count": null,
   "metadata": {},
   "outputs": [],
   "source": [
    "# Count the number of samples less than 0, i.e. the area under the curve\n",
    "# before 0, represent the probability that site A is worse than site B.\n",
    "print(\"Probability site A is WORSE than site B: %.3f\" % \\\n",
    "    np.mean(delta_samples < 0))\n",
    "\n",
    "print(\"Probability site A is BETTER than site B: %.3f\" % \\\n",
    "    np.mean(delta_samples > 0))"
   ]
  },
  {
   "cell_type": "markdown",
   "metadata": {},
   "source": [
    "## Binomial Distribution"
   ]
  },
  {
   "cell_type": "code",
   "execution_count": null,
   "metadata": {},
   "outputs": [],
   "source": [
    "figsize(12.5, 4)\n",
    "\n",
    "import scipy.stats as stats\n",
    "binomial = stats.binom\n",
    "\n",
    "parameters = [(10, .4), (10, .9)]\n",
    "colors = [\"#348ABD\", \"#A60628\"]\n",
    "\n",
    "for i in range(2):\n",
    "    N, p = parameters[i]\n",
    "    _x = np.arange(N + 1)\n",
    "    plt.bar(_x - 0.5, binomial.pmf(_x, N, p), color=colors[i],\n",
    "            edgecolor=colors[i],\n",
    "            alpha=0.6,\n",
    "            label=\"$N$: %d, $p$: %.1f\" % (N, p),\n",
    "            linewidth=3)\n",
    "\n",
    "plt.legend(loc=\"upper left\")\n",
    "plt.xlim(0, 10.5)\n",
    "plt.xlabel(\"$k$\")\n",
    "plt.ylabel(\"$P(X = k)$\")\n",
    "plt.title(\"Probability mass distributions of binomial random variables\");"
   ]
  },
  {
   "cell_type": "code",
   "execution_count": null,
   "metadata": {},
   "outputs": [],
   "source": [
    "import pymc3 as pm\n",
    "\n",
    "N = 100\n",
    "with pm.Model() as model:\n",
    "    p = pm.Uniform(\"freq_cheating\", 0, 1)\n",
    "\n",
    "    true_answers = pm.Bernoulli(\"truths\", p, shape=N, testval=np.random.binomial(1, 0.5, N))"
   ]
  },
  {
   "cell_type": "code",
   "execution_count": null,
   "metadata": {},
   "outputs": [],
   "source": [
    "with model:\n",
    "    first_coin_flips = pm.Bernoulli(\"first_flips\", 0.5, shape=N, testval=np.random.binomial(1, 0.5, N))\n",
    "print(first_coin_flips.tag.test_value)"
   ]
  },
  {
   "cell_type": "code",
   "execution_count": null,
   "metadata": {},
   "outputs": [],
   "source": [
    "with model:\n",
    "    second_coin_flips = pm.Bernoulli(\"second_flips\", 0.5, shape=N, testval=np.random.binomial(1, 0.5, N))"
   ]
  },
  {
   "cell_type": "code",
   "execution_count": null,
   "metadata": {},
   "outputs": [],
   "source": [
    "import theano.tensor as tt\n",
    "with model:\n",
    "    val = first_coin_flips*true_answers + (1 - first_coin_flips)*second_coin_flips\n",
    "    observed_proportion = pm.Deterministic(\"observed_proportion\", tt.sum(val)/float(N))"
   ]
  },
  {
   "cell_type": "code",
   "execution_count": null,
   "metadata": {},
   "outputs": [],
   "source": [
    "observed_proportion.tag.test_value"
   ]
  },
  {
   "cell_type": "code",
   "execution_count": null,
   "metadata": {},
   "outputs": [],
   "source": [
    "X = 35\n",
    "\n",
    "with model:\n",
    "    observations = pm.Binomial(\"obs\", N, observed_proportion, observed=X)\n",
    "\n",
    "    step = pm.Metropolis(vars=[p])\n",
    "    trace = pm.sample(40000, step=step)\n",
    "    burned_trace = trace[15000:]"
   ]
  },
  {
   "cell_type": "code",
   "execution_count": null,
   "metadata": {},
   "outputs": [],
   "source": [
    "figsize(12.5, 3)\n",
    "p_trace = burned_trace[\"freq_cheating\"][15000:]\n",
    "plt.hist(p_trace, histtype=\"stepfilled\", normed=True, alpha=0.85, bins=30, \n",
    "         label=\"posterior distribution\", color=\"#348ABD\")\n",
    "plt.vlines([.05, .35], [0, 0], [5, 5], alpha=0.3)\n",
    "plt.xlim(0, 1)\n",
    "plt.legend();"
   ]
  },
  {
   "cell_type": "code",
   "execution_count": null,
   "metadata": {},
   "outputs": [],
   "source": [
    "X = 60\n",
    "\n",
    "with model:\n",
    "    observations = pm.Binomial(\"obs\", N, observed_proportion, observed=X)\n",
    "\n",
    "    step = pm.Metropolis(vars=[p])\n",
    "    trace = pm.sample(40000, step=step)\n",
    "    burned_trace = trace[15000:]\n",
    "    \n",
    "figsize(12.5, 3)\n",
    "p_trace = burned_trace[\"freq_cheating\"][15000:]\n",
    "plt.hist(p_trace, histtype=\"stepfilled\", normed=True, alpha=0.85, bins=30, \n",
    "         label=\"posterior distribution\", color=\"#348ABD\")\n",
    "plt.vlines([.05, .35], [0, 0], [5, 5], alpha=0.3)\n",
    "plt.xlim(0, 1)\n",
    "plt.legend();"
   ]
  },
  {
   "cell_type": "code",
   "execution_count": null,
   "metadata": {},
   "outputs": [],
   "source": [
    "with pm.Model() as model:\n",
    "    p = pm.Uniform(\"freq_cheating\", 0, 1)\n",
    "    p_skewed = pm.Deterministic(\"p_skewed\", 0.5*p + 0.25)\n",
    "    yes_responses = pm.Binomial(\"number_cheaters\", 100, p_skewed, observed=35)\n",
    "    # To Be Explained in Chapter 3!\n",
    "    step = pm.Metropolis()\n",
    "    trace = pm.sample(25000, step=step)\n",
    "    burned_trace = trace[2500:]\n",
    "    \n",
    "figsize(12.5, 3)\n",
    "p_trace = burned_trace[\"freq_cheating\"]\n",
    "plt.hist(p_trace, histtype=\"stepfilled\", normed=True, alpha=0.85, bins=30, \n",
    "         label=\"posterior distribution\", color=\"#348ABD\")\n",
    "plt.vlines([.05, .35], [0, 0], [5, 5], alpha=0.2)\n",
    "plt.xlim(0, 1)\n",
    "plt.legend();"
   ]
  },
  {
   "cell_type": "markdown",
   "metadata": {},
   "source": [
    "Arrays of variables in PyMC3"
   ]
  },
  {
   "cell_type": "code",
   "execution_count": null,
   "metadata": {},
   "outputs": [],
   "source": [
    "N = 10\n",
    "x = np.ones(N, dtype=object)\n",
    "with pm.Model() as model:\n",
    "    for i in range(0, N):\n",
    "        x[i] = pm.Exponential('x_%i' % i, (i+1.0)**2)"
   ]
  },
  {
   "cell_type": "markdown",
   "metadata": {},
   "source": [
    "# Example of Determining Posterior from Data"
   ]
  },
  {
   "cell_type": "code",
   "execution_count": null,
   "metadata": {},
   "outputs": [],
   "source": [
    "figsize(12.5, 3.5)\n",
    "np.set_printoptions(precision=3, suppress=True)\n",
    "challenger_data = np.genfromtxt(\"data/challenger_data.csv\", skip_header=1,\n",
    "                                usecols=[1, 2], missing_values=\"NA\",\n",
    "                                delimiter=\",\")\n",
    "#drop the NA values\n",
    "challenger_data = challenger_data[~np.isnan(challenger_data[:, 1])]\n",
    "\n",
    "#plot it, as a function of tempature (the first column)\n",
    "#print(\"Temp (F), O-Ring failure?\")\n",
    "#print(challenger_data)\n",
    "\n",
    "plt.scatter(challenger_data[:, 0], challenger_data[:, 1], s=75, color=\"k\",\n",
    "            alpha=0.5)\n",
    "plt.yticks([0, 1])\n",
    "plt.ylabel(\"Damage Incident?\")\n",
    "plt.xlabel(\"Outside temperature (Fahrenheit)\")\n",
    "plt.title(\"Defects of the Space Shuttle O-Rings vs temperature\");"
   ]
  },
  {
   "cell_type": "markdown",
   "metadata": {},
   "source": [
    "The model of failure as a function of temperature will be a logistic function.\n",
    "The objective is to determine the correct parameter of $\\beta$ and the offset $\\alpha$ to use in the model. This will be found from the data and finding the maximum a prior estimate. "
   ]
  },
  {
   "cell_type": "code",
   "execution_count": null,
   "metadata": {},
   "outputs": [],
   "source": []
  }
 ],
 "metadata": {
  "kernelspec": {
   "display_name": "Python 3",
   "language": "python",
   "name": "python3"
  },
  "language_info": {
   "codemirror_mode": {
    "name": "ipython",
    "version": 3
   },
   "file_extension": ".py",
   "mimetype": "text/x-python",
   "name": "python",
   "nbconvert_exporter": "python",
   "pygments_lexer": "ipython3",
   "version": "3.6.4"
  }
 },
 "nbformat": 4,
 "nbformat_minor": 2
}
